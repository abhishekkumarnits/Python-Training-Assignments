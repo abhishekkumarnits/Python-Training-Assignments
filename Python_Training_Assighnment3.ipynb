{
 "cells": [
  {
   "cell_type": "code",
   "execution_count": 8,
   "id": "c401d37c",
   "metadata": {},
   "outputs": [
    {
     "name": "stdout",
     "output_type": "stream",
     "text": [
      "file exists\n",
      "modifiled time is 1679752754.4937103\n",
      "created time is 2023-03-25 19:28:22.348525\n"
     ]
    }
   ],
   "source": [
    "# To convert epoch modified datetime to normal time\n",
    "\n",
    "import os\n",
    "import datetime\n",
    "\n",
    "file_name = r'D:\\JK_Tech\\Training_Assignments\\Python_training\\Abhi.txt'\n",
    "if os.path.exists(file_name):\n",
    "    print('file exists')\n",
    "    m_time = os.path.getmtime(file_name)\n",
    "    dt_m = datetime.datetime.fromtimestamp(m_time)\n",
    "    print('modifiled time is {}'.format(m_time))\n",
    "    c_time = os.path.getctime(file_name)\n",
    "    dt_c = datetime.datetime.fromtimestamp(c_time)\n",
    "    print('created time is {}'.format(dt_c))\n",
    "else:\n",
    "    print('no file with that name')\n"
   ]
  },
  {
   "cell_type": "code",
   "execution_count": 9,
   "id": "08412356",
   "metadata": {},
   "outputs": [
    {
     "name": "stdout",
     "output_type": "stream",
     "text": [
      "The data in the file are :  Hi, I am a Data Scientist, currently working at JKTech.\n"
     ]
    }
   ],
   "source": [
    "# To print all data from the file\n",
    "\n",
    "file_name1 = open(r'D:\\JK_Tech\\Training_Assignments\\Python_training\\Abhi.txt','r')\n",
    "content = file_name1.read()\n",
    "print(\"The data in the file are : \", content)\n",
    "file_name1.close()"
   ]
  },
  {
   "cell_type": "code",
   "execution_count": 10,
   "id": "9f096f0c",
   "metadata": {},
   "outputs": [
    {
     "name": "stdout",
     "output_type": "stream",
     "text": [
      "The total number of lines in the file is : 1\n"
     ]
    }
   ],
   "source": [
    "# To print the total number of lines in the file\n",
    "\n",
    "with open(r'D:\\JK_Tech\\Training_Assignments\\Python_training\\Abhi.txt','r') as fp :\n",
    "    lines = len(fp.readlines())\n",
    "    print(\"The total number of lines in the file is :\", lines)\n"
   ]
  },
  {
   "cell_type": "code",
   "execution_count": 11,
   "id": "e91b50c3",
   "metadata": {},
   "outputs": [
    {
     "name": "stdout",
     "output_type": "stream",
     "text": [
      "The total number of characters in the file is : 55\n"
     ]
    }
   ],
   "source": [
    "# To print the total number of characters in a file\n",
    "\n",
    "with open(r'D:\\JK_Tech\\Training_Assignments\\Python_training\\Abhi.txt', 'r') as fp :\n",
    "    characters = len(fp.read())\n",
    "    print(\"The total number of characters in the file is :\", characters)\n"
   ]
  },
  {
   "cell_type": "code",
   "execution_count": 12,
   "id": "cb8eed35",
   "metadata": {},
   "outputs": [
    {
     "name": "stdout",
     "output_type": "stream",
     "text": [
      "The most recent modifiled time is 1679752754.4937103\n"
     ]
    }
   ],
   "source": [
    "# To print the most recent modification time of the file\n",
    "\n",
    "with open(r'D:\\JK_Tech\\Training_Assignments\\Python_training\\Abhi.txt', 'r') as fp :\n",
    "    m_time = os.path.getmtime(file_name)\n",
    "    dt_m = datetime.datetime.fromtimestamp(m_time)\n",
    "    print(\"The most recent modifiled time is {}\".format(m_time))\n",
    "\n"
   ]
  },
  {
   "cell_type": "code",
   "execution_count": 13,
   "id": "81beb153",
   "metadata": {},
   "outputs": [
    {
     "name": "stdout",
     "output_type": "stream",
     "text": [
      "File size is : 55 KiloBytes\n"
     ]
    }
   ],
   "source": [
    "# To print the file size\n",
    "file_size = os.path.getsize(r'D:\\JK_Tech\\Training_Assignments\\Python_training\\Abhi.txt')\n",
    "print(\"File size is :\", file_size, \"KiloBytes\")\n"
   ]
  },
  {
   "cell_type": "code",
   "execution_count": 14,
   "id": "542e2ae5",
   "metadata": {},
   "outputs": [
    {
     "name": "stdout",
     "output_type": "stream",
     "text": [
      "File name is: Abhi.txt\n"
     ]
    }
   ],
   "source": [
    "# To print the file name\n",
    "import os\n",
    "file_path = r'D:\\JK_Tech\\Training_Assignments\\Python_training\\Abhi.txt'\n",
    "file_name = os.path.basename(file_path)\n",
    "print(\"File name is:\", file_name)"
   ]
  },
  {
   "cell_type": "code",
   "execution_count": null,
   "id": "3785cfad",
   "metadata": {},
   "outputs": [],
   "source": []
  }
 ],
 "metadata": {
  "kernelspec": {
   "display_name": "Python 3 (ipykernel)",
   "language": "python",
   "name": "python3"
  },
  "language_info": {
   "codemirror_mode": {
    "name": "ipython",
    "version": 3
   },
   "file_extension": ".py",
   "mimetype": "text/x-python",
   "name": "python",
   "nbconvert_exporter": "python",
   "pygments_lexer": "ipython3",
   "version": "3.10.9"
  }
 },
 "nbformat": 4,
 "nbformat_minor": 5
}
