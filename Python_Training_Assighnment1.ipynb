{
 "cells": [
  {
   "cell_type": "code",
   "execution_count": 3,
   "id": "fc8a4cf1",
   "metadata": {},
   "outputs": [
    {
     "name": "stdout",
     "output_type": "stream",
     "text": [
      "Enter 1st no. : 4\n",
      "Enter 2nd no. : 7\n",
      "Enter 3rd no. : 1\n",
      "The largest of three numbers is the 2nd number :  7\n",
      "The smallest of three numbers is the 1st number : 4\n"
     ]
    }
   ],
   "source": [
    " # To print the largest and smallest numbers from the given three numbers\n",
    "\n",
    "x=int(input(\"Enter 1st no. : \"))\n",
    "y=int(input(\"Enter 2nd no. : \"))\n",
    "z=int(input(\"Enter 3rd no. : \"))\n",
    "if(x>y) :\n",
    "    print(\"The largest of three numbers is the 1st number :\", x)\n",
    "elif(y>z) :\n",
    "    print(\"The largest of three numbers is the 2nd number : \",y)\n",
    "else :\n",
    "    print(\"The largest of three numbers is the 3rd number : \",z)\n",
    "if(x<y):\n",
    "    print(\"The smallest of three numbers is the 1st number :\", x)\n",
    "elif(y<z):\n",
    "    print(\"The smallest of three numbers is the 2nd number :\", y)\n",
    "else :\n",
    "    print(\"The smallest of three numbers is the 3rd number :\", z)\n"
   ]
  },
  {
   "cell_type": "code",
   "execution_count": 7,
   "id": "4d4a8a55",
   "metadata": {},
   "outputs": [
    {
     "name": "stdout",
     "output_type": "stream",
     "text": [
      "The given list is :  [8, 21, 75, 47, 56, 18, 99, 2]\n",
      "The largest number in the given list is :  99\n",
      "The smallest number in the given l;ist is :  2\n",
      "The second largest number in the given list is :  75\n"
     ]
    }
   ],
   "source": [
    "# To print the largest, smallest and second-largest numbers from the given list\n",
    "\n",
    "list = [8,21,75,47,56,18,99,2]\n",
    "print(\"The given list is : \", list)\n",
    "list.sort()\n",
    "print(\"The largest number in the given list is : \", max(list)) # To find the largest number in the list\n",
    "print(\"The smallest number in the given l;ist is : \",min(list)) # To find the smallest number in the list\n",
    "print(\"The second largest number in the given list is : \",list[-2]) # To find the second-largest number in the list"
   ]
  },
  {
   "cell_type": "code",
   "execution_count": 10,
   "id": "37db09e1",
   "metadata": {},
   "outputs": [
    {
     "name": "stdout",
     "output_type": "stream",
     "text": [
      "List :  [1, 2, 1, 4, 5]\n",
      "Removed Element :  1\n",
      "Updated List :  [1, 2, 1, 4, 5]\n"
     ]
    }
   ],
   "source": [
    "# To remove the 2nd index from the list\n",
    "\n",
    "List=[1,2,1,1,4,5]\n",
    "removed_element=List.pop(2)\n",
    "print(\"List : \",List)\n",
    "print(\"Removed Element : \", removed_element)\n",
    "print(\"Updated List : \", List)"
   ]
  },
  {
   "cell_type": "code",
   "execution_count": 11,
   "id": "09be26e5",
   "metadata": {},
   "outputs": [
    {
     "name": "stdout",
     "output_type": "stream",
     "text": [
      "[1, 2, 1, 4, 5]\n"
     ]
    }
   ],
   "source": [
    "# To delete the second occurrence of 1 from the list\n",
    "\n",
    "x=[1,2,1,1,4,5]\n",
    "remove_element=1\n",
    "count=0\n",
    "for i in range(0,len(x)-1) :\n",
    "    if (remove_element==x[i]) :\n",
    "        count=count+1\n",
    "        if(count==2):\n",
    "            del x[i]\n",
    "            break\n",
    "print(x)"
   ]
  },
  {
   "cell_type": "code",
   "execution_count": 14,
   "id": "3198c436",
   "metadata": {},
   "outputs": [
    {
     "name": "stdout",
     "output_type": "stream",
     "text": [
      "list :  [1, 4, 10, 30, 60, 70, 80, 100]\n",
      "Deleted List :  30\n",
      "Updated List :  [1, 4, 10, 60, 70, 80, 100]\n",
      "Deleted List :  100\n",
      "Updated List :  [1, 4, 10, 60, 70, 80]\n",
      "Deleted List :  70\n",
      "Updated List :  [1, 4, 10, 60, 80]\n"
     ]
    }
   ],
   "source": [
    "# To delete the 3rd, 6th and 4th index from the list\n",
    "\n",
    "List = [1,4,10,30,60,70,80,100]\n",
    "print(\"list : \", List)\n",
    "Deleted_index_list=List.pop(3)  \n",
    "print(\"Deleted List : \", Deleted_index_list)\n",
    "print(\"Updated List : \", List)\n",
    "Deleted_index_list=List.pop(6)  \n",
    "print(\"Deleted List : \", Deleted_index_list)\n",
    "print(\"Updated List : \", List)\n",
    "Deleted_index_list=List.pop(4)  \n",
    "print(\"Deleted List : \", Deleted_index_list)\n",
    "print(\"Updated List : \", List)"
   ]
  },
  {
   "cell_type": "code",
   "execution_count": 15,
   "id": "5b3b24c3",
   "metadata": {},
   "outputs": [
    {
     "name": "stdout",
     "output_type": "stream",
     "text": [
      "[1, 4, 10, 70, 80]\n"
     ]
    }
   ],
   "source": [
    "# To delete 3rd, 7th and 4th index from the list\n",
    "\n",
    "List = [1,4,10,30,60,70,80,100]\n",
    "x=[3,7,4]\n",
    "for i in sorted(x, reverse=True) :    \n",
    "    del List[i]\n",
    "print(List)"
   ]
  },
  {
   "cell_type": "code",
   "execution_count": 18,
   "id": "57e94b42",
   "metadata": {},
   "outputs": [
    {
     "name": "stdout",
     "output_type": "stream",
     "text": [
      "hceTKJ\n"
     ]
    }
   ],
   "source": [
    "# To reverse a string\n",
    "\n",
    "string = \"JKTech\"\n",
    "print(string[::-1])"
   ]
  },
  {
   "cell_type": "code",
   "execution_count": 24,
   "id": "bad39dfb",
   "metadata": {},
   "outputs": [
    {
     "name": "stdout",
     "output_type": "stream",
     "text": [
      "erolagnaB hceTKJ\n"
     ]
    }
   ],
   "source": [
    "#Reverse of String\n",
    "\n",
    "String = \"JKTech Bangalore\"\n",
    "def rev_string(string):\n",
    "    rev_string = String[::-1]   # To reverse a string\n",
    "    return rev_string\n",
    "rev_string_var = rev_string(String)\n",
    "print(rev_string_var)\n",
    "\n"
   ]
  },
  {
   "cell_type": "code",
   "execution_count": 28,
   "id": "887e5cf7",
   "metadata": {},
   "outputs": [
    {
     "name": "stdout",
     "output_type": "stream",
     "text": [
      "Contains 2 vowels\n",
      "True\n"
     ]
    }
   ],
   "source": [
    "# Checks whether the string has 2 or more vowels and if so then, prints true\n",
    "\n",
    "def is_two_vowels_present(rev_string_var):\n",
    "    list1=['a','e','i','o','u'] \n",
    "    #list1.count(2)\n",
    "    count=0\n",
    "    for each_character in rev_string_var :   \n",
    "        if each_character in list1 :\n",
    "            count = count + 1\n",
    "\n",
    "    if (count>=2) :    \n",
    "        print(\"Contains 2 vowels\")\n",
    "        return True\n",
    "    else :\n",
    "        print(\"Does not contain vowels\")\n",
    "        return False\n",
    "\n",
    "two_vowels_present = is_two_vowels_present(rev_string_var)\n",
    "print(two_vowels_present)"
   ]
  },
  {
   "cell_type": "code",
   "execution_count": null,
   "id": "de630493",
   "metadata": {},
   "outputs": [],
   "source": []
  }
 ],
 "metadata": {
  "kernelspec": {
   "display_name": "Python 3 (ipykernel)",
   "language": "python",
   "name": "python3"
  },
  "language_info": {
   "codemirror_mode": {
    "name": "ipython",
    "version": 3
   },
   "file_extension": ".py",
   "mimetype": "text/x-python",
   "name": "python",
   "nbconvert_exporter": "python",
   "pygments_lexer": "ipython3",
   "version": "3.10.9"
  }
 },
 "nbformat": 4,
 "nbformat_minor": 5
}
