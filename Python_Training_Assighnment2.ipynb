{
 "cells": [
  {
   "cell_type": "code",
   "execution_count": 2,
   "id": "ed40c3d9",
   "metadata": {},
   "outputs": [
    {
     "name": "stdout",
     "output_type": "stream",
     "text": [
      "Enter the starting number : 4\n",
      "Enter the ending number : 9\n",
      "5\n",
      "7\n"
     ]
    }
   ],
   "source": [
    "# To print all the prime numbers when starting and ending numbers are given\n",
    "\n",
    "x=int(input(\"Enter the starting number : \"))\n",
    "y=int(input(\"Enter the ending number : \"))\n",
    "for count in range(x, y+1) :\n",
    "    if (count>1) :\n",
    "        for i in range(2,count) :\n",
    "            if (count%i)==0 :\n",
    "                break\n",
    "        else :\n",
    "            print(count)"
   ]
  },
  {
   "cell_type": "code",
   "execution_count": 3,
   "id": "f162be43",
   "metadata": {},
   "outputs": [
    {
     "name": "stdout",
     "output_type": "stream",
     "text": [
      "Enter the starting number : 34\n",
      "Enter the ending number : 56\n",
      "35\n",
      "42\n",
      "49\n",
      "56\n"
     ]
    }
   ],
   "source": [
    "# To print the numbers which are divisible by 7 when the starting and ending numbers are given\n",
    "\n",
    "x=int(input(\"Enter the starting number : \"))\n",
    "y=int(input(\"Enter the ending number : \"))\n",
    "for i in range(x, y+1) :\n",
    "    if (i%7 == 0) :  # if the remainder is zero then the number is divisible by 7\n",
    "        print (i)"
   ]
  },
  {
   "cell_type": "code",
   "execution_count": 7,
   "id": "73e96388",
   "metadata": {},
   "outputs": [
    {
     "name": "stdout",
     "output_type": "stream",
     "text": [
      "The original string is : JKTechTraining\n",
      "The updated string is :  jKtEcHtRaInInG\n"
     ]
    }
   ],
   "source": [
    "# To convert even characters to uppercase and odd characters to lower case\n",
    "\n",
    "String = \"JKTechTraining\"\n",
    "print(\"The original string is :\", String)\n",
    "result = \" \"\n",
    "for i in range(len(String)) :\n",
    "    if (i%2):   \n",
    "        result = result + String[i].upper()\n",
    "    else :\n",
    "        result = result + String[i].lower()\n",
    "print(\"The updated string is :\", result)\n"
   ]
  },
  {
   "cell_type": "code",
   "execution_count": 9,
   "id": "44bb4b0d",
   "metadata": {},
   "outputs": [
    {
     "name": "stdout",
     "output_type": "stream",
     "text": [
      "Total number of words in the given sentence is :  10\n"
     ]
    }
   ],
   "source": [
    "# Counts the total number of words in the given sentence\n",
    "\n",
    "sentence = \"I am a Data Scientist in JkTech at COI team \"\n",
    "words = len(sentence.split())\n",
    "print(\"Total number of words in the given sentence is : \", words)"
   ]
  },
  {
   "cell_type": "code",
   "execution_count": null,
   "id": "3045b2e2",
   "metadata": {},
   "outputs": [],
   "source": []
  }
 ],
 "metadata": {
  "kernelspec": {
   "display_name": "Python 3 (ipykernel)",
   "language": "python",
   "name": "python3"
  },
  "language_info": {
   "codemirror_mode": {
    "name": "ipython",
    "version": 3
   },
   "file_extension": ".py",
   "mimetype": "text/x-python",
   "name": "python",
   "nbconvert_exporter": "python",
   "pygments_lexer": "ipython3",
   "version": "3.10.9"
  }
 },
 "nbformat": 4,
 "nbformat_minor": 5
}
